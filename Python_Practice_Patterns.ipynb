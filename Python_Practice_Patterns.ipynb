{
  "nbformat": 4,
  "nbformat_minor": 0,
  "metadata": {
    "colab": {
      "name": "Python Practice.ipynb",
      "provenance": [],
      "collapsed_sections": [],
      "authorship_tag": "ABX9TyNXwuIj2A0v+pPcKTPO/KkZ",
      "include_colab_link": true
    },
    "kernelspec": {
      "name": "python3",
      "display_name": "Python 3"
    },
    "language_info": {
      "name": "python"
    }
  },
  "cells": [
    {
      "cell_type": "markdown",
      "metadata": {
        "id": "view-in-github",
        "colab_type": "text"
      },
      "source": [
        "<a href=\"https://colab.research.google.com/github/ankurkaiser/Bepec-Training/blob/main/Python_Practice_Patterns.ipynb\" target=\"_parent\"><img src=\"https://colab.research.google.com/assets/colab-badge.svg\" alt=\"Open In Colab\"/></a>"
      ]
    },
    {
      "cell_type": "code",
      "metadata": {
        "colab": {
          "base_uri": "https://localhost:8080/"
        },
        "id": "SEJkntR9Up-s",
        "outputId": "129b6014-0c47-40bb-d979-50115a3097d6"
      },
      "source": [
        "n=int(input(\"enter the number of table : \"))\n",
        "i=1\n",
        "while i<=10:\n",
        "  print(n*i)\n",
        "  i+=1\n"
      ],
      "execution_count": 36,
      "outputs": [
        {
          "output_type": "stream",
          "text": [
            "enter the number of table : 17\n",
            "17\n",
            "34\n",
            "51\n",
            "68\n",
            "85\n",
            "102\n",
            "119\n",
            "136\n",
            "153\n",
            "170\n"
          ],
          "name": "stdout"
        }
      ]
    },
    {
      "cell_type": "code",
      "metadata": {
        "colab": {
          "base_uri": "https://localhost:8080/"
        },
        "id": "0sQaoh_pU_fx",
        "outputId": "0df65338-443e-4406-b044-72761d6b73e7"
      },
      "source": [
        "#n=int(input(\"enter a number\"))\n",
        "\n",
        "num=1\n",
        "n=5\n",
        "for i in range(0,n):\n",
        "  for j in range(0,i+1):\n",
        "    print(\"*\", end= \" \")\n",
        "\n",
        "    num+=1\n",
        "  print(\"\\r\")\n"
      ],
      "execution_count": 37,
      "outputs": [
        {
          "output_type": "stream",
          "text": [
            "* \r\n",
            "* * \r\n",
            "* * * \r\n",
            "* * * * \r\n",
            "* * * * * \r\n"
          ],
          "name": "stdout"
        }
      ]
    },
    {
      "cell_type": "code",
      "metadata": {
        "colab": {
          "base_uri": "https://localhost:8080/"
        },
        "id": "G_7WXnQhXcf1",
        "outputId": "a24fafa5-5156-41ef-b761-016c4d800a9f"
      },
      "source": [
        "num=1\n",
        "n=5\n",
        "for i in range(0,n):\n",
        "  num=1\n",
        "  for j in range(0,i+1):\n",
        "    print(num, end= \" \")\n",
        "\n",
        "    num+=1\n",
        "  print(\"\\r\")\n"
      ],
      "execution_count": 28,
      "outputs": [
        {
          "output_type": "stream",
          "text": [
            "1 \r\n",
            "1 2 \r\n",
            "1 2 3 \r\n",
            "1 2 3 4 \r\n",
            "1 2 3 4 5 \r\n"
          ],
          "name": "stdout"
        }
      ]
    },
    {
      "cell_type": "code",
      "metadata": {
        "colab": {
          "base_uri": "https://localhost:8080/"
        },
        "id": "2JSG1Let3_vU",
        "outputId": "9e617dfb-8b3a-4ddd-f537-6b8aca68d093"
      },
      "source": [
        "num=1\n",
        "n=5\n",
        "for i in range(0,n):\n",
        "  for j in range(0,i+1):\n",
        "    print(\"WFH\", end= \" \")\n",
        "\n",
        "    num+=1\n",
        "  print(\"\\r\")\n"
      ],
      "execution_count": 30,
      "outputs": [
        {
          "output_type": "stream",
          "text": [
            "WFH \r\n",
            "WFH WFH \r\n",
            "WFH WFH WFH \r\n",
            "WFH WFH WFH WFH \r\n",
            "WFH WFH WFH WFH WFH \r\n"
          ],
          "name": "stdout"
        }
      ]
    },
    {
      "cell_type": "code",
      "metadata": {
        "colab": {
          "base_uri": "https://localhost:8080/"
        },
        "id": "LvfbI7Kz4UtB",
        "outputId": "550bf05d-a1fe-46cb-e869-99e46276e25f"
      },
      "source": [
        "num=1\n",
        "n=5\n",
        "for i in range(0,n):\n",
        "  #num=1\n",
        "  for j in range(0,i+1):\n",
        "    print(num, end= \" \")\n",
        "\n",
        "    num+=1\n",
        "  print(\"\\r\")"
      ],
      "execution_count": 31,
      "outputs": [
        {
          "output_type": "stream",
          "text": [
            "1 \r\n",
            "2 3 \r\n",
            "4 5 6 \r\n",
            "7 8 9 10 \r\n",
            "11 12 13 14 15 \r\n"
          ],
          "name": "stdout"
        }
      ]
    },
    {
      "cell_type": "code",
      "metadata": {
        "colab": {
          "base_uri": "https://localhost:8080/"
        },
        "id": "dkPJIoXs4t2H",
        "outputId": "4b50f660-3e0d-4624-df4c-59c37606d9f5"
      },
      "source": [
        "num=1\n",
        "n=8\n",
        "for i in range(0,n):\n",
        "  for j in range(0,i+1):\n",
        "    print(\"*\", end=\" \")\n",
        "    num+=1\n",
        "  print(\"\\r\")\n",
        "\n",
        "for i in range(n,0,-1):\n",
        "  for j in range(i,0,-1):\n",
        "    print(\"*\",end=\" \")\n",
        "    num-=1\n",
        "  print(\"\\r\")"
      ],
      "execution_count": 39,
      "outputs": [
        {
          "output_type": "stream",
          "text": [
            "* \r\n",
            "* * \r\n",
            "* * * \r\n",
            "* * * * \r\n",
            "* * * * * \r\n",
            "* * * * * * \r\n",
            "* * * * * * * \r\n",
            "* * * * * * * * \r\n",
            "* * * * * * * * \r\n",
            "* * * * * * * \r\n",
            "* * * * * * \r\n",
            "* * * * * \r\n",
            "* * * * \r\n",
            "* * * \r\n",
            "* * \r\n",
            "* \r\n"
          ],
          "name": "stdout"
        }
      ]
    },
    {
      "cell_type": "code",
      "metadata": {
        "colab": {
          "base_uri": "https://localhost:8080/"
        },
        "id": "xKnXbp8RJaE_",
        "outputId": "c25814dd-ea29-4b0d-d17d-f65e1e1584fc"
      },
      "source": [
        "n=10\n",
        "for i in range(n,0,-1):\n",
        "  for j in range(i,0,-1):\n",
        "    print(\"*\",end=\" \")\n",
        "    num-=1\n",
        "  print(\"\\r\")"
      ],
      "execution_count": 40,
      "outputs": [
        {
          "output_type": "stream",
          "text": [
            "* * * * * * * * * * \r\n",
            "* * * * * * * * * \r\n",
            "* * * * * * * * \r\n",
            "* * * * * * * \r\n",
            "* * * * * * \r\n",
            "* * * * * \r\n",
            "* * * * \r\n",
            "* * * \r\n",
            "* * \r\n",
            "* \r\n"
          ],
          "name": "stdout"
        }
      ]
    },
    {
      "cell_type": "code",
      "metadata": {
        "id": "xosj6kWCKFc_"
      },
      "source": [
        ""
      ],
      "execution_count": null,
      "outputs": []
    }
  ]
}