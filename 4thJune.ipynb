{
 "cells": [
  {
   "cell_type": "code",
   "execution_count": null,
   "metadata": {},
   "outputs": [],
   "source": [
    "d={'Name':'Ankur','Location':'Ranchi','Age':23}"
   ]
  },
  {
   "cell_type": "code",
   "execution_count": null,
   "metadata": {},
   "outputs": [],
   "source": [
    "print(d)"
   ]
  },
  {
   "cell_type": "code",
   "execution_count": null,
   "metadata": {},
   "outputs": [],
   "source": [
    "d.get('Location')"
   ]
  },
  {
   "cell_type": "code",
   "execution_count": null,
   "metadata": {},
   "outputs": [],
   "source": [
    "d.pop('Age')"
   ]
  },
  {
   "cell_type": "code",
   "execution_count": null,
   "metadata": {},
   "outputs": [],
   "source": [
    "print(d)"
   ]
  },
  {
   "cell_type": "code",
   "execution_count": null,
   "metadata": {},
   "outputs": [],
   "source": [
    "d.popitem()"
   ]
  },
  {
   "cell_type": "code",
   "execution_count": null,
   "metadata": {},
   "outputs": [],
   "source": [
    "print(d)"
   ]
  },
  {
   "cell_type": "code",
   "execution_count": null,
   "metadata": {},
   "outputs": [],
   "source": [
    "a={'name':'mohan','age':30}\n",
    "b={'loc':'blr','age':20}\n",
    "\n",
    "a.update(b)\n",
    "print(a)"
   ]
  },
  {
   "cell_type": "code",
   "execution_count": null,
   "metadata": {},
   "outputs": [],
   "source": [
    "a.setdefault('salary')"
   ]
  },
  {
   "cell_type": "code",
   "execution_count": null,
   "metadata": {},
   "outputs": [],
   "source": [
    "print(a)"
   ]
  },
  {
   "cell_type": "code",
   "execution_count": null,
   "metadata": {},
   "outputs": [],
   "source": [
    "a['salary']=30000"
   ]
  },
  {
   "cell_type": "code",
   "execution_count": null,
   "metadata": {},
   "outputs": [],
   "source": [
    "print(a)"
   ]
  },
  {
   "cell_type": "code",
   "execution_count": null,
   "metadata": {},
   "outputs": [],
   "source": [
    "a.setdefault('dept')"
   ]
  },
  {
   "cell_type": "code",
   "execution_count": null,
   "metadata": {},
   "outputs": [],
   "source": [
    "a['dept']='DBA'"
   ]
  },
  {
   "cell_type": "code",
   "execution_count": null,
   "metadata": {},
   "outputs": [],
   "source": [
    "print(a)"
   ]
  },
  {
   "cell_type": "code",
   "execution_count": null,
   "metadata": {},
   "outputs": [],
   "source": [
    "user={'user1':{'name':'Ankur','email':'ank@gmail.com'},\n",
    "     'user2':{'name':'Partha','email':'parth@gmail.com'}}"
   ]
  },
  {
   "cell_type": "code",
   "execution_count": null,
   "metadata": {},
   "outputs": [],
   "source": [
    "print(user)"
   ]
  },
  {
   "cell_type": "code",
   "execution_count": null,
   "metadata": {},
   "outputs": [],
   "source": [
    "user['user1']['name']"
   ]
  },
  {
   "cell_type": "code",
   "execution_count": null,
   "metadata": {},
   "outputs": [],
   "source": [
    "user['user2']['email']"
   ]
  },
  {
   "cell_type": "code",
   "execution_count": null,
   "metadata": {},
   "outputs": [],
   "source": [
    "n=int(input(\"enter the number of keys you want : \"))\n",
    "\n",
    "d={}\n",
    "\n",
    "for i in range(n):\n",
    "    name=input(\"enter the name of the keys : \")\n",
    "    val=[]\n",
    "    d[name]=val\n",
    "    m=int(input(\"enter the number of values you want : \"))\n",
    "    for j in range(m):\n",
    "        v=input(\"enter the values for the keys : \")\n",
    "        d[name].append(v)\n",
    "\n",
    "for key,val in d.items():\n",
    "    \n",
    "    print(key,\":\",val)"
   ]
  },
  {
   "cell_type": "markdown",
   "metadata": {},
   "source": [
    "# Assignments"
   ]
  },
  {
   "cell_type": "code",
   "execution_count": null,
   "metadata": {},
   "outputs": [],
   "source": [
    "#printing indexes and list values\n",
    "lst=[1,2,3,4,5]\n",
    "\n",
    "for i in range(len(lst)):\n",
    "    print(i,lst[i])"
   ]
  },
  {
   "cell_type": "code",
   "execution_count": null,
   "metadata": {},
   "outputs": [],
   "source": [
    "dic_t={'name':'ankur','salary':20000}\n",
    "\n",
    "for key,val in dic_t.items():\n",
    "    print(key,\":\",val)"
   ]
  },
  {
   "cell_type": "code",
   "execution_count": null,
   "metadata": {},
   "outputs": [],
   "source": [
    "print(\"Press 1 for addition\",\"Press 2 for substraction\",\"Press 3 for multiplication\",\"Press 4 for division\")\n",
    "choice =int(input(\"Enter your choice \"))\n",
    "\n",
    "print(\"You selected\",choice)\n",
    "\n",
    "num1=int(input(\"Enter the first number\"))\n",
    "num2=int(input(\"Enter the second number\"))\n",
    "\n",
    "if choice ==1:\n",
    "    s=num1+num2\n",
    "    print(\"The sum is \", s)\n",
    "elif choice ==2:\n",
    "    sub=0\n",
    "    if num1>num2:\n",
    "        sub=num1-num2\n",
    "        print(\"the difference is\", sub)\n",
    "    elif num2>num1:\n",
    "        print(\"number is greater than num1, result will be in negative\")\n",
    "        sub =num1-num2\n",
    "        print(\"the difference is\", sub)\n",
    "elif choice ==3:\n",
    "    mul=0\n",
    "    mul=num1*num2\n",
    "    print(\"The product is \", mul)\n",
    "elif choice ==4:\n",
    "    \n",
    "    div=0\n",
    "    div =num1/num2\n",
    "    print(\"the result is \", div)\n",
    "else :\n",
    "    print(\"wrong choice program terminating\")\n",
    "    \n"
   ]
  },
  {
   "cell_type": "code",
   "execution_count": null,
   "metadata": {},
   "outputs": [],
   "source": [
    "n=0\n",
    "while(n>5):\n",
    "    s=0\n",
    "    s=s+s\n",
    "    n=n+1\n",
    "    print(s)"
   ]
  },
  {
   "cell_type": "code",
   "execution_count": null,
   "metadata": {},
   "outputs": [],
   "source": [
    "n =int(input(\"enter the number of numbers you need sum of :\"))\n",
    "s=0\n",
    "for i in range(n):\n",
    "    num=int(input(\"enter the numbers \"))\n",
    "    for j in range(num,num+1,1):\n",
    "        \n",
    "        s=s+j\n",
    "print(\"The sum is\", s)"
   ]
  },
  {
   "cell_type": "code",
   "execution_count": null,
   "metadata": {},
   "outputs": [],
   "source": [
    "#user definded function for sum\n",
    "def summ(num1,num2):\n",
    "    s=num1+num2\n",
    "    return s\n",
    "summ(2,3)"
   ]
  },
  {
   "cell_type": "markdown",
   "metadata": {},
   "source": [
    "# Escape Sequence "
   ]
  },
  {
   "cell_type": "code",
   "execution_count": null,
   "metadata": {},
   "outputs": [],
   "source": [
    "quote= 'hey what's up ?'\n",
    "\n",
    "print(quote)\n",
    "\n"
   ]
  },
  {
   "cell_type": "code",
   "execution_count": null,
   "metadata": {},
   "outputs": [],
   "source": [
    "quote_1='hey what\\'s up ?'\n",
    "\n",
    "print(quote_1)"
   ]
  },
  {
   "cell_type": "markdown",
   "metadata": {},
   "source": [
    "# Multiplication from user input"
   ]
  },
  {
   "cell_type": "code",
   "execution_count": 4,
   "metadata": {},
   "outputs": [
    {
     "name": "stdout",
     "output_type": "stream",
     "text": [
      "enter the number of numbers you want to multiply :4\n",
      "enter the numbers : 2\n",
      "enter the numbers : 3\n",
      "enter the numbers : 4\n",
      "enter the numbers : 5\n",
      "120\n"
     ]
    }
   ],
   "source": [
    "n=int(input(\"enter the number of numbers you want to multiply :\"))\n",
    "mul=1\n",
    "for i in range(n):\n",
    "    num =int(input(\"enter the numbers : \"))\n",
    "    for j in range(num,num+1,1):\n",
    "        mul=mul*j\n",
    "print(mul)"
   ]
  },
  {
   "cell_type": "markdown",
   "metadata": {},
   "source": [
    "n =int(input(\"enter the number of numbers you need sum of :\"))\n",
    "s=0\n",
    "for i in range(n):\n",
    "    num=int(input(\"enter the numbers \"))\n",
    "    for j in range(num,num+1,1):\n",
    "        \n",
    "        s=s+j\n",
    "print(\"The sum is\", s)"
   ]
  }
 ],
 "metadata": {
  "kernelspec": {
   "display_name": "Python 3",
   "language": "python",
   "name": "python3"
  },
  "language_info": {
   "codemirror_mode": {
    "name": "ipython",
    "version": 3
   },
   "file_extension": ".py",
   "mimetype": "text/x-python",
   "name": "python",
   "nbconvert_exporter": "python",
   "pygments_lexer": "ipython3",
   "version": "3.8.5"
  }
 },
 "nbformat": 4,
 "nbformat_minor": 4
}
