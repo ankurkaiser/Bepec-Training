{
  "nbformat": 4,
  "nbformat_minor": 0,
  "metadata": {
    "colab": {
      "name": "3rdJune.ipynb",
      "provenance": [],
      "collapsed_sections": [],
      "authorship_tag": "ABX9TyOncBwhnHNswm6rP3TeCVfy",
      "include_colab_link": true
    },
    "kernelspec": {
      "name": "python3",
      "display_name": "Python 3"
    },
    "language_info": {
      "name": "python"
    }
  },
  "cells": [
    {
      "cell_type": "markdown",
      "metadata": {
        "id": "view-in-github",
        "colab_type": "text"
      },
      "source": [
        "<a href=\"https://colab.research.google.com/github/ankurkaiser/Bepec-Training/blob/main/3rdJune.ipynb\" target=\"_parent\"><img src=\"https://colab.research.google.com/assets/colab-badge.svg\" alt=\"Open In Colab\"/></a>"
      ]
    },
    {
      "cell_type": "code",
      "metadata": {
        "id": "Hmi53tF3ZIgX"
      },
      "source": [
        "A={1,2,3,4,5}\n",
        "B={10,12}"
      ],
      "execution_count": 9,
      "outputs": []
    },
    {
      "cell_type": "code",
      "metadata": {
        "colab": {
          "base_uri": "https://localhost:8080/"
        },
        "id": "kO46FL0qiJcd",
        "outputId": "0285fa3a-d615-4cb4-9824-9a8282a8854c"
      },
      "source": [
        "B.isdisjoint(A)"
      ],
      "execution_count": 11,
      "outputs": [
        {
          "output_type": "execute_result",
          "data": {
            "text/plain": [
              "True"
            ]
          },
          "metadata": {
            "tags": []
          },
          "execution_count": 11
        }
      ]
    },
    {
      "cell_type": "code",
      "metadata": {
        "colab": {
          "base_uri": "https://localhost:8080/"
        },
        "id": "gkZclN9tiOfA",
        "outputId": "7a750659-987b-464d-d8f3-d086d725fb8a"
      },
      "source": [
        "B.issubset(A)"
      ],
      "execution_count": 5,
      "outputs": [
        {
          "output_type": "execute_result",
          "data": {
            "text/plain": [
              "True"
            ]
          },
          "metadata": {
            "tags": []
          },
          "execution_count": 5
        }
      ]
    },
    {
      "cell_type": "code",
      "metadata": {
        "colab": {
          "base_uri": "https://localhost:8080/"
        },
        "id": "WKW3k_IbiR8H",
        "outputId": "32fa0cb7-0f78-4cf9-e6e8-c5ede231a680"
      },
      "source": [
        "A.issuperset(B)"
      ],
      "execution_count": 7,
      "outputs": [
        {
          "output_type": "execute_result",
          "data": {
            "text/plain": [
              "True"
            ]
          },
          "metadata": {
            "tags": []
          },
          "execution_count": 7
        }
      ]
    },
    {
      "cell_type": "code",
      "metadata": {
        "id": "J2V0coksicGG"
      },
      "source": [
        "a=frozenset([2,3,4,5])"
      ],
      "execution_count": 13,
      "outputs": []
    },
    {
      "cell_type": "code",
      "metadata": {
        "colab": {
          "base_uri": "https://localhost:8080/"
        },
        "id": "dGN9Dk8Ei5I_",
        "outputId": "19452d3f-ae12-40dd-8259-152f7e5ccbc4"
      },
      "source": [
        "type(a)"
      ],
      "execution_count": 14,
      "outputs": [
        {
          "output_type": "execute_result",
          "data": {
            "text/plain": [
              "frozenset"
            ]
          },
          "metadata": {
            "tags": []
          },
          "execution_count": 14
        }
      ]
    },
    {
      "cell_type": "markdown",
      "metadata": {
        "id": "giN-syBNi2Hk"
      },
      "source": [
        "DICTIONARY"
      ]
    },
    {
      "cell_type": "code",
      "metadata": {
        "id": "NQ3fBDIojvoZ"
      },
      "source": [
        "a={}"
      ],
      "execution_count": 15,
      "outputs": []
    },
    {
      "cell_type": "code",
      "metadata": {
        "colab": {
          "base_uri": "https://localhost:8080/"
        },
        "id": "GBCmkCz8jwX2",
        "outputId": "1c7227c7-f2f6-486b-a1ba-a63fec9c651c"
      },
      "source": [
        "type(a)"
      ],
      "execution_count": 16,
      "outputs": [
        {
          "output_type": "execute_result",
          "data": {
            "text/plain": [
              "dict"
            ]
          },
          "metadata": {
            "tags": []
          },
          "execution_count": 16
        }
      ]
    },
    {
      "cell_type": "code",
      "metadata": {
        "id": "u8PCudmujxdz"
      },
      "source": [
        "a={'a':1,'b':2}"
      ],
      "execution_count": 18,
      "outputs": []
    },
    {
      "cell_type": "code",
      "metadata": {
        "id": "q7pVRDKsj0u7"
      },
      "source": [
        "b={1:'hello',2:'moto'}"
      ],
      "execution_count": 19,
      "outputs": []
    },
    {
      "cell_type": "code",
      "metadata": {
        "colab": {
          "base_uri": "https://localhost:8080/"
        },
        "id": "8tGIFD8vj9g4",
        "outputId": "1854c718-51f9-4bed-f7fc-788d1a364bb1"
      },
      "source": [
        "print(b)"
      ],
      "execution_count": 20,
      "outputs": [
        {
          "output_type": "stream",
          "text": [
            "{1: 'hello', 2: 'moto'}\n"
          ],
          "name": "stdout"
        }
      ]
    },
    {
      "cell_type": "code",
      "metadata": {
        "id": "m5pp2Xruj-Hs"
      },
      "source": [
        "c={1:1,2:'hello',3:[1,2,4,5],'c':(4,'l',5,)}"
      ],
      "execution_count": 21,
      "outputs": []
    },
    {
      "cell_type": "code",
      "metadata": {
        "colab": {
          "base_uri": "https://localhost:8080/"
        },
        "id": "B8KyIoockIhP",
        "outputId": "7ffc8946-72e8-4de7-de6d-c352ef037aad"
      },
      "source": [
        "print(c)"
      ],
      "execution_count": 22,
      "outputs": [
        {
          "output_type": "stream",
          "text": [
            "{1: 1, 2: 'hello', 3: [1, 2, 4, 5], 'c': (4, 'l', 5)}\n"
          ],
          "name": "stdout"
        }
      ]
    },
    {
      "cell_type": "code",
      "metadata": {
        "colab": {
          "base_uri": "https://localhost:8080/"
        },
        "id": "SNbzwrrPkJ3J",
        "outputId": "f837029d-c5f2-4121-987b-5a5a9017232d"
      },
      "source": [
        "type(c)"
      ],
      "execution_count": 23,
      "outputs": [
        {
          "output_type": "execute_result",
          "data": {
            "text/plain": [
              "dict"
            ]
          },
          "metadata": {
            "tags": []
          },
          "execution_count": 23
        }
      ]
    },
    {
      "cell_type": "code",
      "metadata": {
        "colab": {
          "base_uri": "https://localhost:8080/"
        },
        "id": "3ZRg94v6kLu4",
        "outputId": "1086ad23-7a30-498a-bdd4-a87d628338c8"
      },
      "source": [
        "c[1]"
      ],
      "execution_count": 26,
      "outputs": [
        {
          "output_type": "execute_result",
          "data": {
            "text/plain": [
              "1"
            ]
          },
          "metadata": {
            "tags": []
          },
          "execution_count": 26
        }
      ]
    },
    {
      "cell_type": "code",
      "metadata": {
        "id": "kJdISIbGlFWT"
      },
      "source": [
        "c[1]='John'"
      ],
      "execution_count": 27,
      "outputs": []
    },
    {
      "cell_type": "code",
      "metadata": {
        "colab": {
          "base_uri": "https://localhost:8080/"
        },
        "id": "-dbA8WLclWj1",
        "outputId": "571fa289-4ae4-434f-b02a-11efb7740b56"
      },
      "source": [
        "print(c)"
      ],
      "execution_count": 29,
      "outputs": [
        {
          "output_type": "stream",
          "text": [
            "{1: 'John', 2: 'hello', 3: [1, 2, 4, 5], 'c': (4, 'l', 5)}\n",
            "{1: 'John', 2: 'hello', 3: [1, 2, 4, 5], 'c': (4, 'l', 5)}\n"
          ],
          "name": "stdout"
        }
      ]
    },
    {
      "cell_type": "code",
      "metadata": {
        "id": "R6g_xbzblX2N"
      },
      "source": [
        "clear() - Removes all the elements from the dictionary\n",
        "copy() -Returns a copy of the dictionary\n",
        "fromkeys() - Returns a dictionary with the specified keys and value\n",
        "get()- Returns the value of the specified key\n",
        "items()- Returns a list containing a tuple for each key value pair\n",
        "keys() - Returns a list containing the dictionary's keys\n",
        "pop()- Removes the element with the specified key\n",
        "popitem()- Removes the last inserted key-value pair\n",
        "setdefault()- Returns the value of the specified key. If the key does not exist: insert the key, with the specified value\n",
        "update()- Updates the dictionary with the specified key-value pairs\n",
        "values() - Returns a list of all the values in the dictionary\n"
      ],
      "execution_count": null,
      "outputs": []
    }
  ]
}