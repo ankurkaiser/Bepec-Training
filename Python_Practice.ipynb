{
  "nbformat": 4,
  "nbformat_minor": 0,
  "metadata": {
    "colab": {
      "name": "Python Practice.ipynb",
      "provenance": [],
      "collapsed_sections": [],
      "authorship_tag": "ABX9TyPfsxHJSlUzNPRrQVe7f1Zl",
      "include_colab_link": true
    },
    "kernelspec": {
      "name": "python3",
      "display_name": "Python 3"
    },
    "language_info": {
      "name": "python"
    }
  },
  "cells": [
    {
      "cell_type": "markdown",
      "metadata": {
        "id": "view-in-github",
        "colab_type": "text"
      },
      "source": [
        "<a href=\"https://colab.research.google.com/github/ankurkaiser/Bepec-Training/blob/main/Python_Practice.ipynb\" target=\"_parent\"><img src=\"https://colab.research.google.com/assets/colab-badge.svg\" alt=\"Open In Colab\"/></a>"
      ]
    },
    {
      "cell_type": "code",
      "metadata": {
        "colab": {
          "base_uri": "https://localhost:8080/"
        },
        "id": "SEJkntR9Up-s",
        "outputId": "129b6014-0c47-40bb-d979-50115a3097d6"
      },
      "source": [
        "n=int(input(\"enter the number of table : \"))\n",
        "i=1\n",
        "while i<=10:\n",
        "  print(n*i)\n",
        "  i+=1\n"
      ],
      "execution_count": null,
      "outputs": [
        {
          "output_type": "stream",
          "text": [
            "enter the number of table : 17\n",
            "17\n",
            "34\n",
            "51\n",
            "68\n",
            "85\n",
            "102\n",
            "119\n",
            "136\n",
            "153\n",
            "170\n"
          ],
          "name": "stdout"
        }
      ]
    },
    {
      "cell_type": "code",
      "metadata": {
        "colab": {
          "base_uri": "https://localhost:8080/"
        },
        "id": "0sQaoh_pU_fx",
        "outputId": "0df65338-443e-4406-b044-72761d6b73e7"
      },
      "source": [
        "#n=int(input(\"enter a number\"))\n",
        "\n",
        "num=1\n",
        "n=5\n",
        "for i in range(0,n):\n",
        "  for j in range(0,i+1):\n",
        "    print(\"*\", end= \" \")\n",
        "\n",
        "    num+=1\n",
        "  print(\"\\r\")\n"
      ],
      "execution_count": null,
      "outputs": [
        {
          "output_type": "stream",
          "text": [
            "* \r\n",
            "* * \r\n",
            "* * * \r\n",
            "* * * * \r\n",
            "* * * * * \r\n"
          ],
          "name": "stdout"
        }
      ]
    },
    {
      "cell_type": "code",
      "metadata": {
        "colab": {
          "base_uri": "https://localhost:8080/"
        },
        "id": "G_7WXnQhXcf1",
        "outputId": "a24fafa5-5156-41ef-b761-016c4d800a9f"
      },
      "source": [
        "num=1\n",
        "n=5\n",
        "for i in range(0,n):\n",
        "  num=1\n",
        "  for j in range(0,i+1):\n",
        "    print(num, end= \" \")\n",
        "\n",
        "    num+=1\n",
        "  print(\"\\r\")\n"
      ],
      "execution_count": null,
      "outputs": [
        {
          "output_type": "stream",
          "text": [
            "1 \r\n",
            "1 2 \r\n",
            "1 2 3 \r\n",
            "1 2 3 4 \r\n",
            "1 2 3 4 5 \r\n"
          ],
          "name": "stdout"
        }
      ]
    },
    {
      "cell_type": "code",
      "metadata": {
        "colab": {
          "base_uri": "https://localhost:8080/"
        },
        "id": "2JSG1Let3_vU",
        "outputId": "9e617dfb-8b3a-4ddd-f537-6b8aca68d093"
      },
      "source": [
        "num=1\n",
        "n=5\n",
        "for i in range(0,n):\n",
        "  for j in range(0,i+1):\n",
        "    print(\"WFH\", end= \" \")\n",
        "\n",
        "    num+=1\n",
        "  print(\"\\r\")\n"
      ],
      "execution_count": null,
      "outputs": [
        {
          "output_type": "stream",
          "text": [
            "WFH \r\n",
            "WFH WFH \r\n",
            "WFH WFH WFH \r\n",
            "WFH WFH WFH WFH \r\n",
            "WFH WFH WFH WFH WFH \r\n"
          ],
          "name": "stdout"
        }
      ]
    },
    {
      "cell_type": "code",
      "metadata": {
        "colab": {
          "base_uri": "https://localhost:8080/"
        },
        "id": "LvfbI7Kz4UtB",
        "outputId": "550bf05d-a1fe-46cb-e869-99e46276e25f"
      },
      "source": [
        "num=1\n",
        "n=5\n",
        "for i in range(0,n):\n",
        "  #num=1\n",
        "  for j in range(0,i+1):\n",
        "    print(num, end= \" \")\n",
        "\n",
        "    num+=1\n",
        "  print(\"\\r\")"
      ],
      "execution_count": null,
      "outputs": [
        {
          "output_type": "stream",
          "text": [
            "1 \r\n",
            "2 3 \r\n",
            "4 5 6 \r\n",
            "7 8 9 10 \r\n",
            "11 12 13 14 15 \r\n"
          ],
          "name": "stdout"
        }
      ]
    },
    {
      "cell_type": "code",
      "metadata": {
        "colab": {
          "base_uri": "https://localhost:8080/"
        },
        "id": "dkPJIoXs4t2H",
        "outputId": "4b50f660-3e0d-4624-df4c-59c37606d9f5"
      },
      "source": [
        "num=1\n",
        "n=8\n",
        "for i in range(0,n):\n",
        "  for j in range(0,i+1):\n",
        "    print(\"*\", end=\" \")\n",
        "    num+=1\n",
        "  print(\"\\r\")\n",
        "\n",
        "for i in range(n,0,-1):\n",
        "  for j in range(i,0,-1):\n",
        "    print(\"*\",end=\" \")\n",
        "    num-=1\n",
        "  print(\"\\r\")"
      ],
      "execution_count": null,
      "outputs": [
        {
          "output_type": "stream",
          "text": [
            "* \r\n",
            "* * \r\n",
            "* * * \r\n",
            "* * * * \r\n",
            "* * * * * \r\n",
            "* * * * * * \r\n",
            "* * * * * * * \r\n",
            "* * * * * * * * \r\n",
            "* * * * * * * * \r\n",
            "* * * * * * * \r\n",
            "* * * * * * \r\n",
            "* * * * * \r\n",
            "* * * * \r\n",
            "* * * \r\n",
            "* * \r\n",
            "* \r\n"
          ],
          "name": "stdout"
        }
      ]
    },
    {
      "cell_type": "code",
      "metadata": {
        "colab": {
          "base_uri": "https://localhost:8080/"
        },
        "id": "xKnXbp8RJaE_",
        "outputId": "c25814dd-ea29-4b0d-d17d-f65e1e1584fc"
      },
      "source": [
        "n=10\n",
        "for i in range(n,0,-1):\n",
        "  for j in range(i,0,-1):\n",
        "    print(\"*\",end=\" \")\n",
        "    num-=1\n",
        "  print(\"\\r\")"
      ],
      "execution_count": null,
      "outputs": [
        {
          "output_type": "stream",
          "text": [
            "* * * * * * * * * * \r\n",
            "* * * * * * * * * \r\n",
            "* * * * * * * * \r\n",
            "* * * * * * * \r\n",
            "* * * * * * \r\n",
            "* * * * * \r\n",
            "* * * * \r\n",
            "* * * \r\n",
            "* * \r\n",
            "* \r\n"
          ],
          "name": "stdout"
        }
      ]
    },
    {
      "cell_type": "code",
      "metadata": {
        "colab": {
          "base_uri": "https://localhost:8080/"
        },
        "id": "xosj6kWCKFc_",
        "outputId": "2f60f35b-67f2-44ae-de47-7375222c34e0"
      },
      "source": [
        "import numpy as np\n",
        "\n",
        "fb=np.array([0,1,1,2,3,5,8,13,21])\n",
        "fb =fb[1]+fb[0]*fb[-1] \n",
        "\n",
        "fb"
      ],
      "execution_count": null,
      "outputs": [
        {
          "output_type": "execute_result",
          "data": {
            "text/plain": [
              "1"
            ]
          },
          "metadata": {
            "tags": []
          },
          "execution_count": 4
        }
      ]
    },
    {
      "cell_type": "code",
      "metadata": {
        "colab": {
          "base_uri": "https://localhost:8080/"
        },
        "id": "w1YvJSTWe4bM",
        "outputId": "202b991c-abb6-4642-8c8e-61437f4dcdb7"
      },
      "source": [
        "A=\"10\"\n",
        "\n",
        "def ad(num):\n",
        "  A=2\n",
        "ad(A)\n",
        "print(\"A is now\", A)\n"
      ],
      "execution_count": null,
      "outputs": [
        {
          "output_type": "stream",
          "text": [
            "A is now 10\n"
          ],
          "name": "stdout"
        }
      ]
    },
    {
      "cell_type": "code",
      "metadata": {
        "colab": {
          "base_uri": "https://localhost:8080/",
          "height": 197
        },
        "id": "G5KdBvSvfKv5",
        "outputId": "64f682f5-bc81-426d-e2ad-ebe3c9c565ca"
      },
      "source": [
        "d1={'Rahul':30,'John':35}\n",
        "d2={'Rahul':35,'John':40}\n",
        "\n",
        "d2 > d1"
      ],
      "execution_count": null,
      "outputs": [
        {
          "output_type": "error",
          "ename": "TypeError",
          "evalue": "ignored",
          "traceback": [
            "\u001b[0;31m---------------------------------------------------------------------------\u001b[0m",
            "\u001b[0;31mTypeError\u001b[0m                                 Traceback (most recent call last)",
            "\u001b[0;32m<ipython-input-46-a4b1ece928af>\u001b[0m in \u001b[0;36m<module>\u001b[0;34m()\u001b[0m\n\u001b[1;32m      2\u001b[0m \u001b[0md2\u001b[0m\u001b[0;34m=\u001b[0m\u001b[0;34m{\u001b[0m\u001b[0;34m'Rahul'\u001b[0m\u001b[0;34m:\u001b[0m\u001b[0;36m35\u001b[0m\u001b[0;34m,\u001b[0m\u001b[0;34m'John'\u001b[0m\u001b[0;34m:\u001b[0m\u001b[0;36m40\u001b[0m\u001b[0;34m}\u001b[0m\u001b[0;34m\u001b[0m\u001b[0;34m\u001b[0m\u001b[0m\n\u001b[1;32m      3\u001b[0m \u001b[0;34m\u001b[0m\u001b[0m\n\u001b[0;32m----> 4\u001b[0;31m \u001b[0md2\u001b[0m \u001b[0;34m>\u001b[0m \u001b[0md1\u001b[0m\u001b[0;34m\u001b[0m\u001b[0;34m\u001b[0m\u001b[0m\n\u001b[0m",
            "\u001b[0;31mTypeError\u001b[0m: '>' not supported between instances of 'dict' and 'dict'"
          ]
        }
      ]
    },
    {
      "cell_type": "code",
      "metadata": {
        "id": "1r6QEifbhwNX",
        "colab": {
          "base_uri": "https://localhost:8080/"
        },
        "outputId": "29e2015b-4a2a-4a22-f19a-582386bfd6d6"
      },
      "source": [
        "import requests\n",
        "from bs4 import BeautifulSoup\n",
        " \n",
        " \n",
        "url = 'https://www.geeksforgeeks.org/'\n",
        "reqs = requests.get(url)\n",
        "soup = BeautifulSoup(reqs.text, 'html.parser')\n",
        " \n",
        "urls = []\n",
        "for link in soup.find_all('a'):\n",
        "    print(link.get('href'))"
      ],
      "execution_count": null,
      "outputs": [
        {
          "output_type": "stream",
          "text": [
            "#main\n",
            "https://www.geeksforgeeks.org/\n",
            "https://www.geeksforgeeks.org/analysis-of-algorithms-set-1-asymptotic-analysis/?ref=ghm\n",
            "https://www.geeksforgeeks.org/analysis-of-algorithms-set-2-asymptotic-analysis/?ref=ghm\n",
            "https://www.geeksforgeeks.org/analysis-of-algorithms-set-3asymptotic-notations/?ref=ghm\n",
            "https://www.geeksforgeeks.org/analysis-of-algorithems-little-o-and-little-omega-notations/?ref=ghm\n",
            "https://www.geeksforgeeks.org/lower-and-upper-bound-theory/?ref=ghm\n",
            "https://www.geeksforgeeks.org/analysis-of-algorithms-set-4-analysis-of-loops/?ref=ghm\n",
            "https://www.geeksforgeeks.org/analysis-algorithm-set-4-master-method-solving-recurrences/?ref=ghm\n",
            "https://www.geeksforgeeks.org/analysis-algorithm-set-5-amortized-analysis-introduction/?ref=ghm\n",
            "https://www.geeksforgeeks.org/g-fact-86/?ref=ghm\n",
            "https://www.geeksforgeeks.org/pseudo-polynomial-in-algorithms/?ref=ghm\n",
            "https://www.geeksforgeeks.org/polynomial-time-approximation-scheme/?ref=ghm\n",
            "https://www.geeksforgeeks.org/a-time-complexity-question/?ref=ghm\n",
            "https://www.geeksforgeeks.org/searching-algorithms/?ref=ghm\n",
            "https://www.geeksforgeeks.org/sorting-algorithms/?ref=ghm\n",
            "https://www.geeksforgeeks.org/graph-data-structure-and-algorithms/?ref=ghm\n",
            "https://www.geeksforgeeks.org/algorithms-gq/pattern-searching/?ref=ghm\n",
            "https://www.geeksforgeeks.org/geometric-algorithms/?ref=ghm\n",
            "https://www.geeksforgeeks.org/mathematical-algorithms/?ref=ghm\n",
            "https://www.geeksforgeeks.org/randomized-algorithms/?ref=ghm\n",
            "https://www.geeksforgeeks.org/greedy-algorithms/?ref=ghm\n",
            "https://www.geeksforgeeks.org/dynamic-programming/?ref=ghm\n",
            "https://www.geeksforgeeks.org/divide-and-conquer/?ref=ghm\n",
            "https://www.geeksforgeeks.org/backtracking-algorithms/?ref=ghm\n",
            "https://www.geeksforgeeks.org/branch-and-bound-algorithm/?ref=ghm\n",
            "https://www.geeksforgeeks.org/fundamentals-of-algorithms/?ref=ghm\n",
            "https://www.geeksforgeeks.org/array-data-structure/?ref=ghm\n",
            "https://www.geeksforgeeks.org/data-structures/linked-list/?ref=ghm\n",
            "https://www.geeksforgeeks.org/stack-data-structure/?ref=ghm\n",
            "https://www.geeksforgeeks.org/queue-data-structure/?ref=ghm\n",
            "https://www.geeksforgeeks.org/binary-tree-data-structure/?ref=ghm\n",
            "https://www.geeksforgeeks.org/binary-search-tree-data-structure/?ref=ghm\n",
            "https://www.geeksforgeeks.org/heap-data-structure/?ref=ghm\n",
            "https://www.geeksforgeeks.org/hashing-data-structure/?ref=ghm\n",
            "https://www.geeksforgeeks.org/graph-data-structure-and-algorithms/?ref=ghm\n",
            "https://www.geeksforgeeks.org/advanced-data-structures/?ref=ghm\n",
            "https://www.geeksforgeeks.org/matrix/?ref=ghm\n",
            "https://www.geeksforgeeks.org/string-data-structure/?ref=ghm\n",
            "https://www.geeksforgeeks.org/data-structures/?ref=ghm\n",
            "https://www.geeksforgeeks.org/c-programming-language/?ref=ghm\n",
            "https://www.geeksforgeeks.org/c-plus-plus/?ref=ghm\n",
            "https://www.geeksforgeeks.org/java/?ref=ghm\n",
            "https://www.geeksforgeeks.org/python-programming-language/?ref=ghm\n",
            "https://www.geeksforgeeks.org/csharp-programming-language/?ref=ghm\n",
            "https://www.geeksforgeeks.org/javascript-tutorial/?ref=ghm\n",
            "https://www.geeksforgeeks.org/jquery-tutorials/?ref=ghm\n",
            "https://www.geeksforgeeks.org/sql-tutorial/?ref=ghm\n",
            "https://www.geeksforgeeks.org/php-tutorials/?ref=ghm\n",
            "https://www.geeksforgeeks.org/scala-programming-language/?ref=ghm\n",
            "https://www.geeksforgeeks.org/perl-programming-language/?ref=ghm\n",
            "https://www.geeksforgeeks.org/golang/?ref=ghm\n",
            "https://www.geeksforgeeks.org/html-tutorials/?ref=ghm\n",
            "https://www.geeksforgeeks.org/css-tutorials/?ref=ghm\n",
            "https://www.geeksforgeeks.org/kotlin-programming-language/?ref=ghm\n",
            "https://www.geeksforgeeks.org/company-preparation/?ref=ghm\n",
            "https://www.geeksforgeeks.org/interview-preparation-for-software-developer/?ref=ghm\n",
            "https://practice.geeksforgeeks.org/company-tags/?ref=ghm\n",
            "https://www.geeksforgeeks.org/company-interview-corner/?ref=ghm\n",
            "https://www.geeksforgeeks.org/experienced-interview-experiences-company-wise/?ref=ghm\n",
            "https://www.geeksforgeeks.org/internship-interview-experiences-company-wise/?ref=ghm\n",
            "https://www.geeksforgeeks.org/competitive-programming-a-complete-guide/?ref=ghm\n",
            "https://www.geeksforgeeks.org/software-design-patterns/?ref=ghm\n",
            "https://www.geeksforgeeks.org/quiz-corner-gq/?ref=ghm\n",
            "https://www.geeksforgeeks.org/gate-cs-notes-gq/?ref=ghm\n",
            "https://www.geeksforgeeks.org/lmns-gq/?ref=ghm\n",
            "https://www.geeksforgeeks.org/gate-corner-2-gq/?ref=ghm\n",
            "https://www.geeksforgeeks.org/original-gate-previous-year-question-papers-cse-and-it-gq/?ref=ghm\n",
            "https://www.geeksforgeeks.org/gate-cs-2021-official-important-dates/?ref=ghm\n",
            "https://www.geeksforgeeks.org/gate-cs-2021-revised-syllabus/?ref=ghm\n",
            "https://www.geeksforgeeks.org/important-topics-prepare-gate-2020-computer-science-paper/?ref=ghm\n",
            "https://www.geeksforgeeks.org/isro-cs-preparation/?ref=ghm\n",
            "https://www.geeksforgeeks.org/isro-original-papers-official-keys/?ref=ghm\n",
            "https://www.geeksforgeeks.org/isro-cse-syllabus-scientistengineer-exam-2018/?ref=ghm\n",
            "https://www.geeksforgeeks.org/ugc-net-cs-notes-according-to-syllabus-of-paper-ii/?ref=ghm\n",
            "https://www.geeksforgeeks.org/ugc-net-cs-notes-according-to-syllabus-of-paper-iii-core-group/?ref=ghm\n",
            "https://www.geeksforgeeks.org/ugc-net-cs-preparation/?ref=ghm\n",
            "https://www.geeksforgeeks.org/engineering-mathematics-tutorials/?ref=ghm\n",
            "https://www.geeksforgeeks.org/operating-systems/?ref=ghm\n",
            "https://www.geeksforgeeks.org/dbms/?ref=ghm\n",
            "https://www.geeksforgeeks.org/computer-network-tutorials/?ref=ghm\n",
            "https://www.geeksforgeeks.org/computer-organization-and-architecture-tutorials/?ref=ghm\n",
            "https://www.geeksforgeeks.org/theory-of-computation-automata-tutorials/?ref=ghm\n",
            "https://www.geeksforgeeks.org/compiler-design-tutorials/?ref=ghm\n",
            "https://www.geeksforgeeks.org/digital-electronics-logic-design-tutorials/#blg/?ref=ghm\n",
            "https://www.geeksforgeeks.org/software-engineering/?ref=ghm\n",
            "https://www.geeksforgeeks.org/html-tutorials/?ref=ghm\n",
            "https://www.geeksforgeeks.org/css-tutorials/?ref=ghm\n",
            "https://www.geeksforgeeks.org/javascript-tutorial/?ref=ghm\n",
            "https://www.geeksforgeeks.org/angularjs-tutorials/?ref=ghm\n",
            "https://www.geeksforgeeks.org/reactjs-tutorials/?ref=ghm\n",
            "https://www.geeksforgeeks.org/nodejs-tutorials/?ref=ghm\n",
            "https://www.geeksforgeeks.org/bootstrap-tutorials/?ref=ghm\n",
            "https://www.geeksforgeeks.org/jquery-tutorials/?ref=ghm\n",
            "https://www.geeksforgeeks.org/php-tutorials/?ref=ghm\n",
            "https://www.geeksforgeeks.org/school-learning/?ref=ghm\n",
            "https://www.geeksforgeeks.org/algebra/?ref=ghm\n",
            "https://www.geeksforgeeks.org/trigonometry/?ref=ghm\n",
            "https://www.geeksforgeeks.org/statistics/?ref=ghm\n",
            "https://www.geeksforgeeks.org/probability-in-maths/?ref=ghm\n",
            "https://www.geeksforgeeks.org/geometry/?ref=ghm\n",
            "https://www.geeksforgeeks.org/mensuration/?ref=ghm\n",
            "https://www.geeksforgeeks.org/calculus/?ref=ghm\n",
            "https://www.geeksforgeeks.org/cbse-class-8-maths-notes/?ref=ghm\n",
            "https://www.geeksforgeeks.org/cbse-class-9-maths-notes/?ref=ghm\n",
            "https://www.geeksforgeeks.org/cbse-class-10-maths-notes/?ref=ghm\n",
            "https://www.geeksforgeeks.org/cbse-class-11-maths-notes/?ref=ghm\n",
            "https://www.geeksforgeeks.org/ncert-solutions-for-class-8-maths/?ref=ghm\n",
            "https://www.geeksforgeeks.org/ncert-solutions-for-class-9-maths/?ref=ghm\n",
            "https://www.geeksforgeeks.org/ncert-solutions-for-class-10-maths/?ref=ghm\n",
            "https://www.geeksforgeeks.org/ncert-solutions-for-class-11-maths/?ref=ghm\n",
            "https://www.geeksforgeeks.org/ncert-solutions-for-class-12-maths/?ref=ghm\n",
            "https://www.geeksforgeeks.org/rd-sharma-class-8-solutions-for-maths/?ref=ghm\n",
            "https://www.geeksforgeeks.org/rd-sharma-class-9-solutions/?ref=ghm\n",
            "https://www.geeksforgeeks.org/rd-sharma-class-10-solutions/?ref=ghm\n",
            "https://www.geeksforgeeks.org/rd-sharma-class-11-solutions-for-maths/?ref=ghm\n",
            "https://www.geeksforgeeks.org/rd-sharma-class-12-solutions-for-maths/?ref=ghm\n",
            "https://www.geeksforgeeks.org/campus-ambassador-program-by-geeksforgeeks/?ref=ghm\n",
            "https://www.geeksforgeeks.org/school-ambassador/?ref=ghm\n",
            "https://www.geeksforgeeks.org/computer-science-projects/?ref=ghm\n",
            "https://www.geeksforgeeks.org/geek-of-the-month/?ref=ghm\n",
            "https://www.geeksforgeeks.org/campus-geek-of-the-month/?ref=ghm\n",
            "https://www.geeksforgeeks.org/placements-gq/?ref=ghm\n",
            "https://www.geeksforgeeks.org/competitive-programming-a-complete-guide/?ref=ghm\n",
            "https://www.geeksforgeeks.org/testimonials/?ref=ghm\n",
            "https://www.geeksforgeeks.org/category/geek-on-the-top/?ref=ghm\n",
            "https://www.geeksforgeeks.org/careers/?ref=ghm\n",
            "https://www.geeksforgeeks.org/internship/?ref=ghm\n",
            "https://practice.geeksforgeeks.org/jobs/?ref=ghm\n",
            "https://www.geeksforgeeks.org/hire-with-us/?ref=ghm\n",
            "https://practice.geeksforgeeks.org/?ref=ghm\n",
            "https://write.geeksforgeeks.org/?ref=ndm\n",
            "https://practice.geeksforgeeks.org/?ref=ndm\n",
            "https://premium.geeksforgeeks.org/premium-plans/?ref=ndm\n",
            "https://practice.geeksforgeeks.org/jobs/?ref=ndm\n",
            "https://www.geeksforgeeks.org/geeks-digest/?ref=ndm\n",
            "https://www.geeksforgeeks.org/quiz-corner-gq/?ref=ndm\n",
            "https://practice.geeksforgeeks.org/geeks-campus/?ref=ndm\n",
            "https://www.geeksforgeeks.org/category/guestblogs/?ref=ndm\n",
            "https://ide.geeksforgeeks.org/?ref=ndm\n",
            "https://www.geeksforgeeks.org/campus-ambassador-program-by-geeksforgeeks/?ref=ndm\n",
            "https://www.geeksforgeeks.org/?ref=ghm\n",
            "https://practice.geeksforgeeks.org/?ref=ghm\n",
            "https://www.geeksforgeeks.org/category/guestblogs/?ref=ghm\n",
            "https://www.geeksforgeeks.org/puzzles/?ref=ghm\n",
            "https://www.geeksforgeeks.org/geeks-classes-geeksforgeeks/?ref=ghm\n",
            "https://www.geeksforgeeks.org/data-structures/?ref=shm\n",
            "https://www.geeksforgeeks.org/fundamentals-of-algorithms/?ref=shm\n",
            "https://practice.geeksforgeeks.org/courses/complete-interview-preparation?utm_source=GfG&utm_medium=Home&utm_campaign=CIP_Submenu\n",
            "https://practice.geeksforgeeks.org/topic-tags/?ref=shm\n",
            "https://www.geeksforgeeks.org/c-plus-plus/?ref=shm\n",
            "https://www.geeksforgeeks.org/java/?ref=shm\n",
            "https://www.geeksforgeeks.org/python-programming-language/?ref=shm\n",
            "https://www.geeksforgeeks.org/competitive-programming-a-complete-guide/?ref=shm\n",
            "https://www.geeksforgeeks.org/machine-learning/?ref=shm\n",
            "https://www.geeksforgeeks.org/web-development/?ref=shm\n",
            "https://www.geeksforgeeks.org/puzzles/?ref=shm\n",
            "https://www.geeksforgeeks.org/computer-science-projects/?ref=shm\n",
            "https://www.geeksforgeeks.org/school-learning/?ref=shm\n",
            "https://www.geeksforgeeks.org/must-do-coding-questions-for-product-based-companies/?ref=ghb\n",
            "https://www.geeksforgeeks.org/category/guestblogs/\n",
            "https://www.geeksforgeeks.org/must-do-coding-questions-for-product-based-companies/?ref=ghb\n",
            "https://www.geeksforgeeks.org/must-do-coding-questions-for-product-based-companies/\n",
            "https://www.geeksforgeeks.org/mercedes-benz-rd-india-interview-experience-on-campus/\n",
            "https://www.geeksforgeeks.org/mercedes-benz-rd-india-interview-experience-on-campus/\n",
            "https://www.geeksforgeeks.org/tag/marketing/\n",
            "https://www.geeksforgeeks.org/tag/mercedes-benz/\n",
            "https://www.geeksforgeeks.org/tag/on-campus/\n",
            "https://www.geeksforgeeks.org/category/interview-experiences/\n",
            "https://www.geeksforgeeks.org/capgemini-interview-experience-on-campus-4/\n",
            "https://www.geeksforgeeks.org/capgemini-interview-experience-on-campus-4/\n",
            "https://www.geeksforgeeks.org/tag/capgemini/\n",
            "https://www.geeksforgeeks.org/tag/marketing/\n",
            "https://www.geeksforgeeks.org/tag/on-campus/\n",
            "https://www.geeksforgeeks.org/category/interview-experiences/\n",
            "https://www.geeksforgeeks.org/zoho-interview-experience-feb-2021/\n",
            "https://www.geeksforgeeks.org/zoho-interview-experience-feb-2021/\n",
            "https://www.geeksforgeeks.org/tag/marketing/\n",
            "https://www.geeksforgeeks.org/tag/zoho/\n",
            "https://www.geeksforgeeks.org/category/interview-experiences/\n",
            "https://www.geeksforgeeks.org/rakuten-internship-interview-expereince/\n",
            "https://www.geeksforgeeks.org/rakuten-internship-interview-expereince/\n",
            "https://www.geeksforgeeks.org/tag/marketing/\n",
            "https://www.geeksforgeeks.org/tag/rakuten/\n",
            "https://www.geeksforgeeks.org/category/interview-experiences/internship-interview-experiences/\n",
            "https://www.geeksforgeeks.org/category/interview-experiences/\n",
            "https://www.geeksforgeeks.org/cedcoss-technologies-pvt-ltd-interview-experience-for-software-developer-intern-off-campus-2021/\n",
            "https://www.geeksforgeeks.org/cedcoss-technologies-pvt-ltd-interview-experience-for-software-developer-intern-off-campus-2021/\n",
            "https://www.geeksforgeeks.org/tag/cedcoss/\n",
            "https://www.geeksforgeeks.org/tag/marketing/\n",
            "https://www.geeksforgeeks.org/tag/off-campus/\n",
            "https://www.geeksforgeeks.org/category/interview-experiences/internship-interview-experiences/\n",
            "https://www.geeksforgeeks.org/category/interview-experiences/\n",
            "https://www.geeksforgeeks.org/zoho-interview-experience-may-2021/\n",
            "https://www.geeksforgeeks.org/zoho-interview-experience-may-2021/\n",
            "https://www.geeksforgeeks.org/tag/marketing/\n",
            "https://www.geeksforgeeks.org/tag/zoho/\n",
            "https://www.geeksforgeeks.org/category/interview-experiences/\n",
            "https://www.geeksforgeeks.org/how-to-become-a-google-certified-android-developer/\n",
            "https://www.geeksforgeeks.org/how-to-become-a-google-certified-android-developer/\n",
            "https://www.geeksforgeeks.org/category/android/\n",
            "https://www.geeksforgeeks.org/category/guestblogs/\n",
            "https://practice.geeksforgeeks.org/events/?ref=grb\n",
            "https://practice.geeksforgeeks.org/courses/?ref=grb\n",
            "https://www.geeksforgeeks.org/java/?ref=grb\n",
            "https://www.geeksforgeeks.org/python-programming-language/?ref=grb\n",
            "https://www.geeksforgeeks.org/data-structures/?ref=grb\n",
            "https://www.geeksforgeeks.org/internship/?ref=grb\n",
            "https://practice.geeksforgeeks.org/explore/?ref=grb\n",
            "https://www.geeksforgeeks.org/how-to-convert-any-website-to-android-app-in-android-studio/\n",
            "https://www.geeksforgeeks.org/how-to-convert-any-website-to-android-app-in-android-studio/\n",
            "https://www.geeksforgeeks.org/tag/android-studio/\n",
            "https://www.geeksforgeeks.org/category/android/\n",
            "https://www.geeksforgeeks.org/category/guestblogs/\n",
            "https://www.geeksforgeeks.org/category/programming-language/java/\n",
            "https://www.geeksforgeeks.org/category/project/\n",
            "https://www.geeksforgeeks.org/how-to-answer-what-are-your-strengths-and-weaknesses-in-an-interview/\n",
            "https://www.geeksforgeeks.org/how-to-answer-what-are-your-strengths-and-weaknesses-in-an-interview/\n",
            "https://www.geeksforgeeks.org/category/guestblogs/\n",
            "https://www.geeksforgeeks.org/impacts-of-covid-19-on-information-technology-it-industry/\n",
            "https://www.geeksforgeeks.org/impacts-of-covid-19-on-information-technology-it-industry/\n",
            "https://www.geeksforgeeks.org/category/guestblogs/\n",
            "https://www.geeksforgeeks.org/sum-of-bitwise-xor-of-elements-of-an-array-with-all-elements-of-another-array/\n",
            "https://www.geeksforgeeks.org/medium/\n",
            "https://www.geeksforgeeks.org/sum-of-bitwise-xor-of-elements-of-an-array-with-all-elements-of-another-array/\n",
            "https://www.geeksforgeeks.org/tag/xor/\n",
            "https://www.geeksforgeeks.org/tag/setbitcount/\n",
            "https://www.geeksforgeeks.org/category/data-structures/c-arrays/\n",
            "https://www.geeksforgeeks.org/category/algorithm/bit-magic/\n",
            "https://www.geeksforgeeks.org/category/algorithm/mathematical/\n",
            "https://www.geeksforgeeks.org/find-the-array-element-having-minimum-sum-of-absolute-differences-with-all-other-array-elements/\n",
            "https://www.geeksforgeeks.org/easy/\n",
            "https://www.geeksforgeeks.org/find-the-array-element-having-minimum-sum-of-absolute-differences-with-all-other-array-elements/\n",
            "https://www.geeksforgeeks.org/tag/median-finding/\n",
            "https://www.geeksforgeeks.org/category/data-structures/c-arrays/\n",
            "https://www.geeksforgeeks.org/category/algorithm/greedy/\n",
            "https://www.geeksforgeeks.org/category/algorithm/mathematical/\n",
            "https://www.geeksforgeeks.org/category/algorithm/sorting/\n",
            "https://www.geeksforgeeks.org/goldman-sachs-interview-experience-2021-2-years-experienced/\n",
            "https://www.geeksforgeeks.org/goldman-sachs-interview-experience-2021-2-years-experienced/\n",
            "https://www.geeksforgeeks.org/tag/goldman-sachs/\n",
            "https://www.geeksforgeeks.org/tag/marketing/\n",
            "https://www.geeksforgeeks.org/category/interview-experiences/experienced-interview-experiences/\n",
            "https://www.geeksforgeeks.org/category/interview-experiences/\n",
            "https://www.geeksforgeeks.org/flipkart-interview-experience-for-data-engineering-i/\n",
            "https://www.geeksforgeeks.org/flipkart-interview-experience-for-data-engineering-i/\n",
            "https://www.geeksforgeeks.org/tag/flipkart/\n",
            "https://www.geeksforgeeks.org/tag/marketing/\n",
            "https://www.geeksforgeeks.org/category/interview-experiences/\n",
            "https://www.geeksforgeeks.org/samsung-bangalore-srib-internship-interview-experience/\n",
            "https://www.geeksforgeeks.org/samsung-bangalore-srib-internship-interview-experience/\n",
            "https://www.geeksforgeeks.org/tag/marketing/\n",
            "https://www.geeksforgeeks.org/tag/samsung/\n",
            "https://www.geeksforgeeks.org/category/interview-experiences/internship-interview-experiences/\n",
            "https://www.geeksforgeeks.org/category/interview-experiences/\n",
            "https://www.geeksforgeeks.org/page/2/\n",
            "https://www.geeksforgeeks.org/page/3/\n",
            "https://www.geeksforgeeks.org/page/4/\n",
            "https://www.geeksforgeeks.org/page/5/\n",
            "https://www.geeksforgeeks.org/page/10/\n",
            "https://www.geeksforgeeks.org/page/20/\n",
            "https://www.geeksforgeeks.org/page/30/\n",
            "https://www.geeksforgeeks.org/page/2/\n",
            "https://www.geeksforgeeks.org/page/6305/\n",
            "https://practice.geeksforgeeks.org/events/?ref=grb\n",
            "https://practice.geeksforgeeks.org/courses/?ref=grb\n",
            "https://www.geeksforgeeks.org/java/?ref=grb\n",
            "https://www.geeksforgeeks.org/python-programming-language/?ref=grb\n",
            "https://www.geeksforgeeks.org/data-structures/?ref=grb\n",
            "https://www.geeksforgeeks.org/internship/?ref=grb\n",
            "https://practice.geeksforgeeks.org/explore/?ref=grb\n",
            "https://www.geeksforgeeks.org/featured-articles\n",
            "https://www.geeksforgeeks.org/must-do-coding-questions-for-companies-like-amazon-microsoft-adobe/?ref=grb\n",
            "https://www.geeksforgeeks.org/progeek-cup-2021-a-project-competition-by-geeksforgeeks/?ref=grb\n",
            "https://www.geeksforgeeks.org/recently-asked-interview-questions-in-product-based-companies/?ref=grb\n",
            "https://www.geeksforgeeks.org/bridge-the-gap-between-engineering-and-your-dream-job-complete-interview-preparation/?ref=grb\n",
            "https://www.geeksforgeeks.org/100-days-of-code-a-complete-guide-for-beginners-and-experienced/?ref=grb\n",
            "https://practice.geeksforgeeks.org/courses/dsa-self-paced?utm_source=geeksforgeeks&utm_medium=article&utm_campaign=gfg_article_dsa_content_bottom\n",
            "https://premium.geeksforgeeks.org/premium-plans/?utm_source=geeksforgeeks&utm_medium=article&utm_campaign=gfg_article_premium_content_bottom\n",
            "https://www.geeksforgeeks.org/category/guestblogs/?ref=grb\n",
            "https://www.geeksforgeeks.org/must-coding-questions-company-wise/?ref=grb\n",
            "https://www.geeksforgeeks.org/practice-for-cracking-any-coding-interview/?ref=grb\n",
            "https://www.geeksforgeeks.org/placements-gq/?ref=grb\n",
            "https://practice.geeksforgeeks.org/courses/cip-da/?ref=grb\n",
            "https://www.geeksforgeeks.org/gate-cs-notes-gq/?ref=grb\n",
            "https://www.geeksforgeeks.org/machine-learning/?ref=grb\n",
            "https://www.geeksforgeeks.org/django-tutorial/?ref=grb\n",
            "https://www.geeksforgeeks.org/computer-science-projects/?ref=grb\n",
            "https://practice.geeksforgeeks.org/courses/Amazon-Test-Series/?ref=grb\n",
            "https://www.geeksforgeeks.org/company-interview-corner/?ref=grb\n",
            "https://www.geeksforgeeks.org/the-c-standard-template-library-stl/?ref=grb\n",
            "https://www.geeksforgeeks.org/software-design-patterns/?ref=grb\n",
            "https://www.geeksforgeeks.org/sql-tutorial/?ref=grb\n",
            "https://www.geeksforgeeks.org/advanced-data-structures/?ref=grb\n",
            "https://www.geeksforgeeks.org/\n",
            "mailto:feedback@geeksforgeeks.org\n",
            "https://www.facebook.com/geeksforgeeks.org/\n",
            "https://www.instagram.com/geeks_for_geeks/\n",
            "https://in.linkedin.com/company/geeksforgeeks\n",
            "https://twitter.com/geeksforgeeks\n",
            "https://www.youtube.com/geeksforgeeksvideos\n",
            "https://www.geeksforgeeks.org/about/\n",
            "https://www.geeksforgeeks.org/careers/\n",
            "https://www.geeksforgeeks.org/privacy-policy/\n",
            "https://www.geeksforgeeks.org/about/contact-us/\n",
            "https://www.geeksforgeeks.org/copyright-information/\n",
            "https://www.geeksforgeeks.org/fundamentals-of-algorithms/\n",
            "https://www.geeksforgeeks.org/data-structures/\n",
            "https://www.geeksforgeeks.org/category/program-output/\n",
            "https://www.geeksforgeeks.org/articles-on-computer-science-subjects-gq/\n",
            "https://www.youtube.com/geeksforgeeksvideos/\n",
            "https://practice.geeksforgeeks.org/courses/\n",
            "https://practice.geeksforgeeks.org/company-tags/\n",
            "https://practice.geeksforgeeks.org/topic-tags/\n",
            "https://practice.geeksforgeeks.org/faq.php\n",
            "https://www.geeksforgeeks.org/contribute/\n",
            "https://www.geeksforgeeks.org/write-interview-experience/\n",
            "https://www.geeksforgeeks.org/careers/?job_type=1\n",
            "https://www.geeksforgeeks.org/how-to-contribute-videos-to-geeksforgeeks/\n",
            "https://www.geeksforgeeks.org/\n",
            "https://www.geeksforgeeks.org/copyright-information/\n",
            "https://www.geeksforgeeks.org/cookie-policy/\n",
            "https://www.geeksforgeeks.org/privacy-policy/\n"
          ],
          "name": "stdout"
        }
      ]
    },
    {
      "cell_type": "code",
      "metadata": {
        "id": "umFp6WWrXHpq"
      },
      "source": [
        "mat = np.matrix([[1,2,3],[4,5,6],[7,8,9]])"
      ],
      "execution_count": null,
      "outputs": []
    },
    {
      "cell_type": "code",
      "metadata": {
        "colab": {
          "base_uri": "https://localhost:8080/"
        },
        "id": "pAvkHiySXgU9",
        "outputId": "8a9ac4c9-32d9-4f98-c87b-7e6f8453d25b"
      },
      "source": [
        "mat"
      ],
      "execution_count": null,
      "outputs": [
        {
          "output_type": "execute_result",
          "data": {
            "text/plain": [
              "matrix([[1, 2, 3],\n",
              "        [4, 5, 6],\n",
              "        [7, 8, 9]])"
            ]
          },
          "metadata": {
            "tags": []
          },
          "execution_count": 8
        }
      ]
    },
    {
      "cell_type": "code",
      "metadata": {
        "colab": {
          "base_uri": "https://localhost:8080/"
        },
        "id": "AgCQsTYbXk-K",
        "outputId": "7d1a422c-6070-4b8e-bfee-2fe00cd78350"
      },
      "source": [
        "mat[0,[0,1,2]]"
      ],
      "execution_count": null,
      "outputs": [
        {
          "output_type": "execute_result",
          "data": {
            "text/plain": [
              "matrix([[1, 2, 3]])"
            ]
          },
          "metadata": {
            "tags": []
          },
          "execution_count": 15
        }
      ]
    },
    {
      "cell_type": "code",
      "metadata": {
        "colab": {
          "base_uri": "https://localhost:8080/"
        },
        "id": "RcCzPP7IXzAY",
        "outputId": "f7625a44-de6c-47fd-e693-abe096b2312d"
      },
      "source": [
        "mat[[0,1,2],0]"
      ],
      "execution_count": null,
      "outputs": [
        {
          "output_type": "execute_result",
          "data": {
            "text/plain": [
              "matrix([[1],\n",
              "        [4],\n",
              "        [7]])"
            ]
          },
          "metadata": {
            "tags": []
          },
          "execution_count": 16
        }
      ]
    },
    {
      "cell_type": "code",
      "metadata": {
        "id": "LhTzlwo6YODJ"
      },
      "source": [
        "pt=np.array([1,2,3], ndmin=3)"
      ],
      "execution_count": null,
      "outputs": []
    },
    {
      "cell_type": "code",
      "metadata": {
        "colab": {
          "base_uri": "https://localhost:8080/"
        },
        "id": "zo89gPLUZeU6",
        "outputId": "8398cc6f-665b-42b0-cdbe-e03fa4d5cca9"
      },
      "source": [
        "pt.shape"
      ],
      "execution_count": null,
      "outputs": [
        {
          "output_type": "execute_result",
          "data": {
            "text/plain": [
              "(1, 1, 3)"
            ]
          },
          "metadata": {
            "tags": []
          },
          "execution_count": 19
        }
      ]
    },
    {
      "cell_type": "code",
      "metadata": {
        "colab": {
          "base_uri": "https://localhost:8080/"
        },
        "id": "ZAuabqr9ZjoC",
        "outputId": "573adde6-4b7e-4211-a620-dca8e89785bd"
      },
      "source": [
        "mat= np.array([[[89,87,79],[69,76,80],[92,87,95]]])\n",
        "\n",
        "mat.ndim+mat.shape[0]+mat.shape[len(mat.shape)-1]"
      ],
      "execution_count": null,
      "outputs": [
        {
          "output_type": "execute_result",
          "data": {
            "text/plain": [
              "7"
            ]
          },
          "metadata": {
            "tags": []
          },
          "execution_count": 22
        }
      ]
    },
    {
      "cell_type": "code",
      "metadata": {
        "colab": {
          "base_uri": "https://localhost:8080/"
        },
        "id": "UrspOqcdakSp",
        "outputId": "bdb1b9ed-aae4-45c4-8d81-97c21697e16a"
      },
      "source": [
        "mat.ndim"
      ],
      "execution_count": null,
      "outputs": [
        {
          "output_type": "execute_result",
          "data": {
            "text/plain": [
              "3"
            ]
          },
          "metadata": {
            "tags": []
          },
          "execution_count": 23
        }
      ]
    },
    {
      "cell_type": "code",
      "metadata": {
        "colab": {
          "base_uri": "https://localhost:8080/"
        },
        "id": "t3gkZEIoa1Gl",
        "outputId": "0c7a1a64-e87d-48e4-da2f-22e52960bb8b"
      },
      "source": [
        "mat.shape[0]"
      ],
      "execution_count": null,
      "outputs": [
        {
          "output_type": "execute_result",
          "data": {
            "text/plain": [
              "1"
            ]
          },
          "metadata": {
            "tags": []
          },
          "execution_count": 24
        }
      ]
    },
    {
      "cell_type": "code",
      "metadata": {
        "colab": {
          "base_uri": "https://localhost:8080/"
        },
        "id": "oCNtEgzIa3LU",
        "outputId": "35b94e8d-9ed7-40a4-e03e-026b8e8d87d3"
      },
      "source": [
        "mat.shape[len(mat.shape)-1]"
      ],
      "execution_count": null,
      "outputs": [
        {
          "output_type": "execute_result",
          "data": {
            "text/plain": [
              "3"
            ]
          },
          "metadata": {
            "tags": []
          },
          "execution_count": 27
        }
      ]
    },
    {
      "cell_type": "code",
      "metadata": {
        "colab": {
          "base_uri": "https://localhost:8080/"
        },
        "id": "4TCkxojcbKxu",
        "outputId": "a385c6df-a779-49a9-8a51-55d76e0391fb"
      },
      "source": [
        "len(mat.shape)-1\n"
      ],
      "execution_count": null,
      "outputs": [
        {
          "output_type": "execute_result",
          "data": {
            "text/plain": [
              "3"
            ]
          },
          "metadata": {
            "tags": []
          },
          "execution_count": 26
        }
      ]
    },
    {
      "cell_type": "code",
      "metadata": {
        "id": "uFPEouc-bP28"
      },
      "source": [
        "mat = np.matrix([[1,2,3],[4,5,6],[7,8,9]])"
      ],
      "execution_count": null,
      "outputs": []
    },
    {
      "cell_type": "code",
      "metadata": {
        "colab": {
          "base_uri": "https://localhost:8080/"
        },
        "id": "tH51cittcg4Q",
        "outputId": "3a5716c4-44f1-427b-bab3-db0f4fe99e5b"
      },
      "source": [
        "mat"
      ],
      "execution_count": null,
      "outputs": [
        {
          "output_type": "execute_result",
          "data": {
            "text/plain": [
              "matrix([[1, 2, 3],\n",
              "        [4, 5, 6],\n",
              "        [7, 8, 9]])"
            ]
          },
          "metadata": {
            "tags": []
          },
          "execution_count": 29
        }
      ]
    },
    {
      "cell_type": "code",
      "metadata": {
        "colab": {
          "base_uri": "https://localhost:8080/"
        },
        "id": "vEMKuuqxchSZ",
        "outputId": "d68ccfc1-ce92-4119-9ff3-8f8e31da8b7f"
      },
      "source": [
        "mat[0,[0,1,2]]"
      ],
      "execution_count": null,
      "outputs": [
        {
          "output_type": "execute_result",
          "data": {
            "text/plain": [
              "matrix([[1, 2, 3]])"
            ]
          },
          "metadata": {
            "tags": []
          },
          "execution_count": 35
        }
      ]
    },
    {
      "cell_type": "code",
      "metadata": {
        "colab": {
          "base_uri": "https://localhost:8080/"
        },
        "id": "8C3DSCH-cmVc",
        "outputId": "4dc06239-6ec3-4c76-8c0f-eab32ac20a40"
      },
      "source": [
        "np.matrix([[4.2,3.0,1.3],[5.6,3.1,7.0]], dtype=np.int32)"
      ],
      "execution_count": null,
      "outputs": [
        {
          "output_type": "execute_result",
          "data": {
            "text/plain": [
              "matrix([[4, 3, 1],\n",
              "        [5, 3, 7]], dtype=int32)"
            ]
          },
          "metadata": {
            "tags": []
          },
          "execution_count": 36
        }
      ]
    },
    {
      "cell_type": "code",
      "metadata": {
        "colab": {
          "base_uri": "https://localhost:8080/"
        },
        "id": "3LTWxV7LdLwy",
        "outputId": "3ca4654e-4fab-432c-94f2-6bf2769b86ae"
      },
      "source": [
        "np.matrix([[4,3,1],[5,3,7.0]])"
      ],
      "execution_count": null,
      "outputs": [
        {
          "output_type": "execute_result",
          "data": {
            "text/plain": [
              "matrix([[4., 3., 1.],\n",
              "        [5., 3., 7.]])"
            ]
          },
          "metadata": {
            "tags": []
          },
          "execution_count": 37
        }
      ]
    },
    {
      "cell_type": "code",
      "metadata": {
        "colab": {
          "base_uri": "https://localhost:8080/"
        },
        "id": "ITTAOvpDdPct",
        "outputId": "ac8b1172-a421-4214-db6b-fc5984a5fd4a"
      },
      "source": [
        "mat[0]"
      ],
      "execution_count": null,
      "outputs": [
        {
          "output_type": "execute_result",
          "data": {
            "text/plain": [
              "matrix([[1, 2, 3]])"
            ]
          },
          "metadata": {
            "tags": []
          },
          "execution_count": 38
        }
      ]
    },
    {
      "cell_type": "code",
      "metadata": {
        "colab": {
          "base_uri": "https://localhost:8080/"
        },
        "id": "W_wq68C1dWMw",
        "outputId": "6ebe5712-5f70-438c-c7f2-317ec90f247a"
      },
      "source": [
        "np.array([[4.2,3.0,1.3],[5.6,3.1,7.0]], dtype=np.int32)"
      ],
      "execution_count": null,
      "outputs": [
        {
          "output_type": "execute_result",
          "data": {
            "text/plain": [
              "array([[4, 3, 1],\n",
              "       [5, 3, 7]], dtype=int32)"
            ]
          },
          "metadata": {
            "tags": []
          },
          "execution_count": 39
        }
      ]
    },
    {
      "cell_type": "code",
      "metadata": {
        "id": "n667xn62eDbr"
      },
      "source": [
        "import pandas as pd\n",
        "import numpy as np\n",
        "ser=pd.Series(np.linspace(10,100))"
      ],
      "execution_count": null,
      "outputs": []
    },
    {
      "cell_type": "code",
      "metadata": {
        "colab": {
          "base_uri": "https://localhost:8080/"
        },
        "id": "Tk51yhfonA8N",
        "outputId": "373b05bc-8e5d-4ca3-93ff-51dd8ab30400"
      },
      "source": [
        "ser.describe()"
      ],
      "execution_count": null,
      "outputs": [
        {
          "output_type": "execute_result",
          "data": {
            "text/plain": [
              "count     50.000000\n",
              "mean      55.000000\n",
              "std       26.774779\n",
              "min       10.000000\n",
              "25%       32.500000\n",
              "50%       55.000000\n",
              "75%       77.500000\n",
              "max      100.000000\n",
              "dtype: float64"
            ]
          },
          "metadata": {
            "tags": []
          },
          "execution_count": 6
        }
      ]
    },
    {
      "cell_type": "code",
      "metadata": {
        "colab": {
          "base_uri": "https://localhost:8080/",
          "height": 297
        },
        "id": "UXFigrq-nMnS",
        "outputId": "cc859ce6-e111-4f42-9b2e-782dbe5eb6a9"
      },
      "source": [
        "df = pd.DataFrame(ser)\n",
        "df.describe()"
      ],
      "execution_count": null,
      "outputs": [
        {
          "output_type": "execute_result",
          "data": {
            "text/html": [
              "<div>\n",
              "<style scoped>\n",
              "    .dataframe tbody tr th:only-of-type {\n",
              "        vertical-align: middle;\n",
              "    }\n",
              "\n",
              "    .dataframe tbody tr th {\n",
              "        vertical-align: top;\n",
              "    }\n",
              "\n",
              "    .dataframe thead th {\n",
              "        text-align: right;\n",
              "    }\n",
              "</style>\n",
              "<table border=\"1\" class=\"dataframe\">\n",
              "  <thead>\n",
              "    <tr style=\"text-align: right;\">\n",
              "      <th></th>\n",
              "      <th>0</th>\n",
              "    </tr>\n",
              "  </thead>\n",
              "  <tbody>\n",
              "    <tr>\n",
              "      <th>count</th>\n",
              "      <td>50.000000</td>\n",
              "    </tr>\n",
              "    <tr>\n",
              "      <th>mean</th>\n",
              "      <td>55.000000</td>\n",
              "    </tr>\n",
              "    <tr>\n",
              "      <th>std</th>\n",
              "      <td>26.774779</td>\n",
              "    </tr>\n",
              "    <tr>\n",
              "      <th>min</th>\n",
              "      <td>10.000000</td>\n",
              "    </tr>\n",
              "    <tr>\n",
              "      <th>25%</th>\n",
              "      <td>32.500000</td>\n",
              "    </tr>\n",
              "    <tr>\n",
              "      <th>50%</th>\n",
              "      <td>55.000000</td>\n",
              "    </tr>\n",
              "    <tr>\n",
              "      <th>75%</th>\n",
              "      <td>77.500000</td>\n",
              "    </tr>\n",
              "    <tr>\n",
              "      <th>max</th>\n",
              "      <td>100.000000</td>\n",
              "    </tr>\n",
              "  </tbody>\n",
              "</table>\n",
              "</div>"
            ],
            "text/plain": [
              "                0\n",
              "count   50.000000\n",
              "mean    55.000000\n",
              "std     26.774779\n",
              "min     10.000000\n",
              "25%     32.500000\n",
              "50%     55.000000\n",
              "75%     77.500000\n",
              "max    100.000000"
            ]
          },
          "metadata": {
            "tags": []
          },
          "execution_count": 8
        }
      ]
    },
    {
      "cell_type": "code",
      "metadata": {
        "colab": {
          "base_uri": "https://localhost:8080/"
        },
        "id": "bpW-tF4qz2Rl",
        "outputId": "732ff42d-ee91-475d-ea85-680490b27e04"
      },
      "source": [
        "dict1= {1:2,3:4}\n",
        "\n",
        "for i,j in dict1.items():\n",
        "  print(i,j)"
      ],
      "execution_count": null,
      "outputs": [
        {
          "output_type": "stream",
          "text": [
            "1 2\n",
            "3 4\n"
          ],
          "name": "stdout"
        }
      ]
    },
    {
      "cell_type": "code",
      "metadata": {
        "id": "TUF-kOyVdrTA",
        "colab": {
          "base_uri": "https://localhost:8080/"
        },
        "outputId": "d3ea355e-19fe-4c0b-b502-1b67c048088c"
      },
      "source": [
        "def students(name,age,*company):\n",
        "  print(\"Name :\", name)\n",
        "  print(\"Age :\", age)\n",
        "  print(\"Company :\",company)\n",
        "\n",
        "students(\"Ankur\",28,\"Infosys\",\"Bepec\")"
      ],
      "execution_count": 5,
      "outputs": [
        {
          "output_type": "stream",
          "text": [
            "Name : Ankur\n",
            "Age : 28\n",
            "Company : ('Infosys', 'Bepec')\n"
          ],
          "name": "stdout"
        }
      ]
    },
    {
      "cell_type": "code",
      "metadata": {
        "colab": {
          "base_uri": "https://localhost:8080/"
        },
        "id": "KZNvUhkALerH",
        "outputId": "c2943d2c-4ed0-41e4-bf7b-eaf8e46ad8a2"
      },
      "source": [
        "def student(name,age,**company):\n",
        "  print(\"Name :\", name)\n",
        "  print(\"Age :\", age)\n",
        "  print(\"Company :\",company)\n",
        "\n",
        "student(name=\"Ankur\",age=28,company1=\"Infosys\",company2=\"Bepec\",company3=\"XYZ Solutions\")\n"
      ],
      "execution_count": 13,
      "outputs": [
        {
          "output_type": "stream",
          "text": [
            "Name : Ankur\n",
            "Age : 28\n",
            "Company : {'company1': 'Infosys', 'company2': 'Bepec', 'company3': 'XYZ Solutions'}\n"
          ],
          "name": "stdout"
        }
      ]
    },
    {
      "cell_type": "code",
      "metadata": {
        "id": "shfVRtabL2J2"
      },
      "source": [
        "def student(name,age,**company):\n",
        "  print(\"Name :\", name)\n",
        "  print(\"Age :\", age)\n",
        "  print(\"Company :\",company)\n",
        "  for i,j in company.items():\n",
        "    print(i,\":\",j)"
      ],
      "execution_count": 16,
      "outputs": []
    },
    {
      "cell_type": "code",
      "metadata": {
        "colab": {
          "base_uri": "https://localhost:8080/"
        },
        "id": "12_IlAF0L_Li",
        "outputId": "ed6e0b8c-c062-4534-f6a4-5bb88c78423c"
      },
      "source": [
        "student(name=\"Ankur\",age=28,company1=\"Infosys\",company2=\"Bepec\",company3=\"XYZ Solutions\")"
      ],
      "execution_count": 17,
      "outputs": [
        {
          "output_type": "stream",
          "text": [
            "Name : Ankur\n",
            "Age : 28\n",
            "Company : {'company1': 'Infosys', 'company2': 'Bepec', 'company3': 'XYZ Solutions'}\n",
            "company1 : Infosys\n",
            "company2 : Bepec\n",
            "company3 : XYZ Solutions\n"
          ],
          "name": "stdout"
        }
      ]
    },
    {
      "cell_type": "code",
      "metadata": {
        "id": "yxu7-BGVMuh4"
      },
      "source": [
        "``"
      ],
      "execution_count": null,
      "outputs": []
    }
  ]
}