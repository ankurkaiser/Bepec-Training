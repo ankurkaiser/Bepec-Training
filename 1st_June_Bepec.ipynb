{
  "nbformat": 4,
  "nbformat_minor": 0,
  "metadata": {
    "colab": {
      "name": "1st June Bepec.ipynb",
      "provenance": [],
      "authorship_tag": "ABX9TyMZonwtKCJ4OmaGw9UZMSWi",
      "include_colab_link": true
    },
    "kernelspec": {
      "name": "python3",
      "display_name": "Python 3"
    },
    "language_info": {
      "name": "python"
    }
  },
  "cells": [
    {
      "cell_type": "markdown",
      "metadata": {
        "id": "view-in-github",
        "colab_type": "text"
      },
      "source": [
        "<a href=\"https://colab.research.google.com/github/ankurkaiser/Bepec-Training/blob/main/1st_June_Bepec.ipynb\" target=\"_parent\"><img src=\"https://colab.research.google.com/assets/colab-badge.svg\" alt=\"Open In Colab\"/></a>"
      ]
    },
    {
      "cell_type": "code",
      "metadata": {
        "id": "rioxiK5uIOnF"
      },
      "source": [
        "shopping_list=['chair','pen','table']\n",
        "\n"
      ],
      "execution_count": null,
      "outputs": []
    },
    {
      "cell_type": "code",
      "metadata": {
        "id": "hIJausmhIlIX"
      },
      "source": [
        "new_list=['apple','banana','chocolate']\n",
        "shopping_list.extend(new_list)"
      ],
      "execution_count": null,
      "outputs": []
    },
    {
      "cell_type": "code",
      "metadata": {
        "colab": {
          "base_uri": "https://localhost:8080/"
        },
        "id": "fXfBgmqaItIe",
        "outputId": "4d410c6a-087e-4fb8-c1c1-46b5819372ed"
      },
      "source": [
        "print(shopping_list)"
      ],
      "execution_count": null,
      "outputs": [
        {
          "output_type": "stream",
          "text": [
            "['chair', 'pen', 'table', 'a', 'p', 'p', 'l', 'e', 'apple', 'banana', 'chocolate']\n"
          ],
          "name": "stdout"
        }
      ]
    },
    {
      "cell_type": "code",
      "metadata": {
        "id": "AlSzgv7uIyth"
      },
      "source": [
        "shopping_list.insert(2,'Refill')"
      ],
      "execution_count": null,
      "outputs": []
    },
    {
      "cell_type": "code",
      "metadata": {
        "colab": {
          "base_uri": "https://localhost:8080/"
        },
        "id": "fpmr0N_QK8c0",
        "outputId": "7f24e8de-831f-4f0d-bedf-704f3c32687c"
      },
      "source": [
        "print(shopping_list)"
      ],
      "execution_count": null,
      "outputs": [
        {
          "output_type": "stream",
          "text": [
            "['chair', 'pen', 'Refill', 'table', 'a', 'p', 'p', 'l', 'e', 'apple', 'banana', 'chocolate']\n"
          ],
          "name": "stdout"
        }
      ]
    },
    {
      "cell_type": "code",
      "metadata": {
        "colab": {
          "base_uri": "https://localhost:8080/"
        },
        "id": "8ko5nHAfK_Hq",
        "outputId": "7c95be09-c991-419b-8d66-d93a44a0929c"
      },
      "source": [
        "shopping_list.index('pen')"
      ],
      "execution_count": null,
      "outputs": [
        {
          "output_type": "execute_result",
          "data": {
            "text/plain": [
              "1"
            ]
          },
          "metadata": {
            "tags": []
          },
          "execution_count": 13
        }
      ]
    },
    {
      "cell_type": "code",
      "metadata": {
        "id": "e4MebsZ6LQbI"
      },
      "source": [
        "list1=[1,2,2,4,5,6,2,6,8]"
      ],
      "execution_count": null,
      "outputs": []
    },
    {
      "cell_type": "code",
      "metadata": {
        "colab": {
          "base_uri": "https://localhost:8080/"
        },
        "id": "sOvKfChrLmA7",
        "outputId": "96788ca1-fa1f-4df7-a39b-e52c5e770b50"
      },
      "source": [
        "list1.index(2,2,8)"
      ],
      "execution_count": null,
      "outputs": [
        {
          "output_type": "execute_result",
          "data": {
            "text/plain": [
              "2"
            ]
          },
          "metadata": {
            "tags": []
          },
          "execution_count": 17
        }
      ]
    },
    {
      "cell_type": "code",
      "metadata": {
        "colab": {
          "base_uri": "https://localhost:8080/"
        },
        "id": "yCl8L5nTLnnP",
        "outputId": "b055ad9f-2770-42b5-8098-f6791e29ccb8"
      },
      "source": [
        "list1.index(2,-4,-1)"
      ],
      "execution_count": null,
      "outputs": [
        {
          "output_type": "execute_result",
          "data": {
            "text/plain": [
              "6"
            ]
          },
          "metadata": {
            "tags": []
          },
          "execution_count": 18
        }
      ]
    },
    {
      "cell_type": "code",
      "metadata": {
        "colab": {
          "base_uri": "https://localhost:8080/"
        },
        "id": "oaBDScy3NBFV",
        "outputId": "6408ae7c-5f25-4ddc-f06f-ae129f3328ab"
      },
      "source": [
        "print(id(list1))"
      ],
      "execution_count": null,
      "outputs": [
        {
          "output_type": "stream",
          "text": [
            "139866338614000\n"
          ],
          "name": "stdout"
        }
      ]
    },
    {
      "cell_type": "markdown",
      "metadata": {
        "id": "Ceac79URSkKh"
      },
      "source": [
        "SET"
      ]
    },
    {
      "cell_type": "code",
      "metadata": {
        "id": "R-rj4RnlOUiD"
      },
      "source": [
        "add()\tAdds an element to the set\n",
        "update()\tUpdate the set with the union of this set and others\n",
        "clear()\tRemoves all the elements from the set\n",
        "remove()\tRemoves the specified element\n",
        "discard()\tRemove the specified item\n",
        "pop()\tRemoves an element from the set\n",
        "difference()\tReturns a set containing the difference between two or more sets\n",
        "copy()\tReturns a copy of the set\n",
        "union()\tReturn a set containing the union of sets\n",
        "intersection()\tReturns a set, that is the intersection of two other sets\n",
        "symmetric_difference()\tReturns a set with the symmetric differences of two sets\n"
      ],
      "execution_count": null,
      "outputs": []
    },
    {
      "cell_type": "code",
      "metadata": {
        "id": "qjRxsmS2U7iU"
      },
      "source": [
        "a=set()"
      ],
      "execution_count": 1,
      "outputs": []
    },
    {
      "cell_type": "code",
      "metadata": {
        "id": "2LH8GHcRQ9oj"
      },
      "source": [
        "a.add(1)"
      ],
      "execution_count": 2,
      "outputs": []
    },
    {
      "cell_type": "code",
      "metadata": {
        "id": "go1zCreoRyCQ"
      },
      "source": [
        "a.update({2,3,4,5,6,7,8})"
      ],
      "execution_count": 4,
      "outputs": []
    },
    {
      "cell_type": "code",
      "metadata": {
        "colab": {
          "base_uri": "https://localhost:8080/"
        },
        "id": "hXeb-jJqSOpa",
        "outputId": "b294ea80-5572-477b-f99e-9b13230572ac"
      },
      "source": [
        "print(a)"
      ],
      "execution_count": 5,
      "outputs": [
        {
          "output_type": "stream",
          "text": [
            "{1, 2, 3, 4, 5, 6, 7, 8}\n"
          ],
          "name": "stdout"
        }
      ]
    },
    {
      "cell_type": "code",
      "metadata": {
        "id": "RBIO8AnTSVAB"
      },
      "source": [
        "a.remove(8)"
      ],
      "execution_count": 7,
      "outputs": []
    },
    {
      "cell_type": "code",
      "metadata": {
        "colab": {
          "base_uri": "https://localhost:8080/"
        },
        "id": "ukVdJu3iSa-i",
        "outputId": "76be69c3-8808-41b2-9c39-190f92ddcf3c"
      },
      "source": [
        "print(a)"
      ],
      "execution_count": 8,
      "outputs": [
        {
          "output_type": "stream",
          "text": [
            "{1, 2, 3, 4, 5, 6, 7}\n"
          ],
          "name": "stdout"
        }
      ]
    },
    {
      "cell_type": "code",
      "metadata": {
        "id": "7hoAH9tkSdiz"
      },
      "source": [
        "b=set()"
      ],
      "execution_count": 9,
      "outputs": []
    },
    {
      "cell_type": "code",
      "metadata": {
        "id": "WPNQ3b0QTAZS"
      },
      "source": [
        "b=({2,3,4,8,9})"
      ],
      "execution_count": 10,
      "outputs": []
    },
    {
      "cell_type": "code",
      "metadata": {
        "colab": {
          "base_uri": "https://localhost:8080/"
        },
        "id": "CLRE8FeYTCeb",
        "outputId": "38d316b3-d921-4313-d4fb-43c6343a5678"
      },
      "source": [
        "type(b)"
      ],
      "execution_count": 11,
      "outputs": [
        {
          "output_type": "execute_result",
          "data": {
            "text/plain": [
              "set"
            ]
          },
          "metadata": {
            "tags": []
          },
          "execution_count": 11
        }
      ]
    },
    {
      "cell_type": "code",
      "metadata": {
        "colab": {
          "base_uri": "https://localhost:8080/"
        },
        "id": "T9RHVVtCTDx0",
        "outputId": "6db8ea84-8f9d-489f-c588-cce646197754"
      },
      "source": [
        "print(b)"
      ],
      "execution_count": 12,
      "outputs": [
        {
          "output_type": "stream",
          "text": [
            "{2, 3, 4, 8, 9}\n"
          ],
          "name": "stdout"
        }
      ]
    },
    {
      "cell_type": "code",
      "metadata": {
        "colab": {
          "base_uri": "https://localhost:8080/"
        },
        "id": "Qkcn66t3TFMe",
        "outputId": "f15dc01b-565a-44ab-8753-b7358f67a1be"
      },
      "source": [
        "a.difference(b)"
      ],
      "execution_count": 13,
      "outputs": [
        {
          "output_type": "execute_result",
          "data": {
            "text/plain": [
              "{1, 5, 6, 7}"
            ]
          },
          "metadata": {
            "tags": []
          },
          "execution_count": 13
        }
      ]
    },
    {
      "cell_type": "code",
      "metadata": {
        "colab": {
          "base_uri": "https://localhost:8080/"
        },
        "id": "NtQuRB_lTHw6",
        "outputId": "c6ae4a97-e38f-44b2-9bfb-192d27555509"
      },
      "source": [
        "a.union(b)"
      ],
      "execution_count": 14,
      "outputs": [
        {
          "output_type": "execute_result",
          "data": {
            "text/plain": [
              "{1, 2, 3, 4, 5, 6, 7, 8, 9}"
            ]
          },
          "metadata": {
            "tags": []
          },
          "execution_count": 14
        }
      ]
    },
    {
      "cell_type": "code",
      "metadata": {
        "colab": {
          "base_uri": "https://localhost:8080/"
        },
        "id": "q7URLKvsUTpx",
        "outputId": "478cf350-63a0-46de-a266-d6e2ef1c70e1"
      },
      "source": [
        "a.intersection(b)"
      ],
      "execution_count": 15,
      "outputs": [
        {
          "output_type": "execute_result",
          "data": {
            "text/plain": [
              "{2, 3, 4}"
            ]
          },
          "metadata": {
            "tags": []
          },
          "execution_count": 15
        }
      ]
    },
    {
      "cell_type": "code",
      "metadata": {
        "colab": {
          "base_uri": "https://localhost:8080/"
        },
        "id": "fxTrrZ1TUejj",
        "outputId": "936fd226-f0c8-4f38-b094-fe1d34f5d048"
      },
      "source": [
        "a.symmetric_difference(b)"
      ],
      "execution_count": 16,
      "outputs": [
        {
          "output_type": "execute_result",
          "data": {
            "text/plain": [
              "{1, 5, 6, 7, 8, 9}"
            ]
          },
          "metadata": {
            "tags": []
          },
          "execution_count": 16
        }
      ]
    },
    {
      "cell_type": "code",
      "metadata": {
        "id": "qG10Ff7pUzbC"
      },
      "source": [
        "c=set()"
      ],
      "execution_count": 19,
      "outputs": []
    },
    {
      "cell_type": "code",
      "metadata": {
        "id": "ObDfmZkhWbMB"
      },
      "source": [
        "c=b.copy()"
      ],
      "execution_count": 22,
      "outputs": []
    },
    {
      "cell_type": "code",
      "metadata": {
        "colab": {
          "base_uri": "https://localhost:8080/"
        },
        "id": "ewgyzlT8Wcbd",
        "outputId": "ca25cf44-3b68-4c8b-d0b5-6bfff5ff4d53"
      },
      "source": [
        "print(c)"
      ],
      "execution_count": 23,
      "outputs": [
        {
          "output_type": "stream",
          "text": [
            "{2, 3, 4, 8, 9}\n"
          ],
          "name": "stdout"
        }
      ]
    },
    {
      "cell_type": "code",
      "metadata": {
        "id": "3kD0fCZWWnWt"
      },
      "source": [
        ""
      ],
      "execution_count": null,
      "outputs": []
    }
  ]
}